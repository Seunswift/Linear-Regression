{
 "cells": [
  {
   "cell_type": "markdown",
   "id": "7876b487",
   "metadata": {},
   "source": [
    "# Regression"
   ]
  },
  {
   "cell_type": "code",
   "execution_count": 87,
   "id": "b8f3dcc5",
   "metadata": {},
   "outputs": [],
   "source": [
    "#install dependencies\n",
    "import pandas as pd\n",
    "import numpy as np\n",
    "import matplotlib.pyplot as plt\n",
    "from sklearn.linear_model import LinearRegression\n",
    "from sklearn.metrics import mean_absolute_error, r2_score\n",
    "from sklearn.utils.validation import check_is_fitted\n",
    "import statsmodels.api as sm\n",
    "\n",
    "%matplotlib inline"
   ]
  },
  {
   "cell_type": "code",
   "execution_count": 25,
   "id": "444c6295",
   "metadata": {},
   "outputs": [],
   "source": [
    "# read the dataset into python\n",
    "df = pd.read_csv(\"Bank Data.csv\")"
   ]
  },
  {
   "cell_type": "markdown",
   "id": "2d34f27b",
   "metadata": {},
   "source": [
    "### Exploratory Data Analysis\n",
    "\n",
    "We can explore the dataset before running our analysis. View the summary and descriptions of the dataset."
   ]
  },
  {
   "cell_type": "code",
   "execution_count": 4,
   "id": "b53e321e",
   "metadata": {},
   "outputs": [
    {
     "data": {
      "text/html": [
       "<div>\n",
       "<style scoped>\n",
       "    .dataframe tbody tr th:only-of-type {\n",
       "        vertical-align: middle;\n",
       "    }\n",
       "\n",
       "    .dataframe tbody tr th {\n",
       "        vertical-align: top;\n",
       "    }\n",
       "\n",
       "    .dataframe thead th {\n",
       "        text-align: right;\n",
       "    }\n",
       "</style>\n",
       "<table border=\"1\" class=\"dataframe\">\n",
       "  <thead>\n",
       "    <tr style=\"text-align: right;\">\n",
       "      <th></th>\n",
       "      <th>Client_id</th>\n",
       "      <th>Customer_Age</th>\n",
       "      <th>Gender</th>\n",
       "      <th>Dependent_count</th>\n",
       "      <th>Months_on_book</th>\n",
       "      <th>Total_Relationship_Count</th>\n",
       "      <th>Credit_Limit</th>\n",
       "      <th>Total_Bal</th>\n",
       "      <th>Total_Trans_Amt</th>\n",
       "    </tr>\n",
       "  </thead>\n",
       "  <tbody>\n",
       "    <tr>\n",
       "      <th>0</th>\n",
       "      <td>768805383</td>\n",
       "      <td>45</td>\n",
       "      <td>M</td>\n",
       "      <td>3</td>\n",
       "      <td>39</td>\n",
       "      <td>5</td>\n",
       "      <td>12691.0</td>\n",
       "      <td>777</td>\n",
       "      <td>1144</td>\n",
       "    </tr>\n",
       "    <tr>\n",
       "      <th>1</th>\n",
       "      <td>818770008</td>\n",
       "      <td>49</td>\n",
       "      <td>F</td>\n",
       "      <td>5</td>\n",
       "      <td>44</td>\n",
       "      <td>6</td>\n",
       "      <td>8256.0</td>\n",
       "      <td>864</td>\n",
       "      <td>1291</td>\n",
       "    </tr>\n",
       "    <tr>\n",
       "      <th>2</th>\n",
       "      <td>713982108</td>\n",
       "      <td>51</td>\n",
       "      <td>M</td>\n",
       "      <td>3</td>\n",
       "      <td>36</td>\n",
       "      <td>4</td>\n",
       "      <td>3418.0</td>\n",
       "      <td>0</td>\n",
       "      <td>1887</td>\n",
       "    </tr>\n",
       "    <tr>\n",
       "      <th>3</th>\n",
       "      <td>769911858</td>\n",
       "      <td>40</td>\n",
       "      <td>F</td>\n",
       "      <td>4</td>\n",
       "      <td>34</td>\n",
       "      <td>3</td>\n",
       "      <td>3313.0</td>\n",
       "      <td>2517</td>\n",
       "      <td>1171</td>\n",
       "    </tr>\n",
       "    <tr>\n",
       "      <th>4</th>\n",
       "      <td>709106358</td>\n",
       "      <td>40</td>\n",
       "      <td>M</td>\n",
       "      <td>3</td>\n",
       "      <td>21</td>\n",
       "      <td>5</td>\n",
       "      <td>4716.0</td>\n",
       "      <td>0</td>\n",
       "      <td>816</td>\n",
       "    </tr>\n",
       "  </tbody>\n",
       "</table>\n",
       "</div>"
      ],
      "text/plain": [
       "   Client_id  Customer_Age Gender  Dependent_count  Months_on_book  \\\n",
       "0  768805383            45      M                3              39   \n",
       "1  818770008            49      F                5              44   \n",
       "2  713982108            51      M                3              36   \n",
       "3  769911858            40      F                4              34   \n",
       "4  709106358            40      M                3              21   \n",
       "\n",
       "   Total_Relationship_Count  Credit_Limit  Total_Bal  Total_Trans_Amt  \n",
       "0                         5       12691.0        777             1144  \n",
       "1                         6        8256.0        864             1291  \n",
       "2                         4        3418.0          0             1887  \n",
       "3                         3        3313.0       2517             1171  \n",
       "4                         5        4716.0          0              816  "
      ]
     },
     "execution_count": 4,
     "metadata": {},
     "output_type": "execute_result"
    }
   ],
   "source": [
    "# Get a glimpse of the dataset.\n",
    "df.head()"
   ]
  },
  {
   "cell_type": "code",
   "execution_count": 5,
   "id": "342fc026",
   "metadata": {},
   "outputs": [
    {
     "name": "stdout",
     "output_type": "stream",
     "text": [
      "<class 'pandas.core.frame.DataFrame'>\n",
      "RangeIndex: 10127 entries, 0 to 10126\n",
      "Data columns (total 9 columns):\n",
      " #   Column                    Non-Null Count  Dtype  \n",
      "---  ------                    --------------  -----  \n",
      " 0   Client_id                 10127 non-null  int64  \n",
      " 1   Customer_Age              10127 non-null  int64  \n",
      " 2   Gender                    10127 non-null  object \n",
      " 3   Dependent_count           10127 non-null  int64  \n",
      " 4   Months_on_book            10127 non-null  int64  \n",
      " 5   Total_Relationship_Count  10127 non-null  int64  \n",
      " 6   Credit_Limit              10127 non-null  float64\n",
      " 7   Total_Bal                 10127 non-null  int64  \n",
      " 8   Total_Trans_Amt           10127 non-null  int64  \n",
      "dtypes: float64(1), int64(7), object(1)\n",
      "memory usage: 712.2+ KB\n"
     ]
    }
   ],
   "source": [
    "# Brief information of the columns, the datatype and number of missing values\n",
    "df.info()"
   ]
  },
  {
   "cell_type": "code",
   "execution_count": 6,
   "id": "09f9af70",
   "metadata": {},
   "outputs": [
    {
     "data": {
      "text/html": [
       "<div>\n",
       "<style scoped>\n",
       "    .dataframe tbody tr th:only-of-type {\n",
       "        vertical-align: middle;\n",
       "    }\n",
       "\n",
       "    .dataframe tbody tr th {\n",
       "        vertical-align: top;\n",
       "    }\n",
       "\n",
       "    .dataframe thead th {\n",
       "        text-align: right;\n",
       "    }\n",
       "</style>\n",
       "<table border=\"1\" class=\"dataframe\">\n",
       "  <thead>\n",
       "    <tr style=\"text-align: right;\">\n",
       "      <th></th>\n",
       "      <th>Client_id</th>\n",
       "      <th>Customer_Age</th>\n",
       "      <th>Dependent_count</th>\n",
       "      <th>Months_on_book</th>\n",
       "      <th>Total_Relationship_Count</th>\n",
       "      <th>Credit_Limit</th>\n",
       "      <th>Total_Bal</th>\n",
       "      <th>Total_Trans_Amt</th>\n",
       "    </tr>\n",
       "  </thead>\n",
       "  <tbody>\n",
       "    <tr>\n",
       "      <th>count</th>\n",
       "      <td>1.012700e+04</td>\n",
       "      <td>10127.000000</td>\n",
       "      <td>10127.000000</td>\n",
       "      <td>10127.000000</td>\n",
       "      <td>10127.000000</td>\n",
       "      <td>10127.000000</td>\n",
       "      <td>10127.000000</td>\n",
       "      <td>10127.000000</td>\n",
       "    </tr>\n",
       "    <tr>\n",
       "      <th>mean</th>\n",
       "      <td>7.391776e+08</td>\n",
       "      <td>46.325960</td>\n",
       "      <td>2.346203</td>\n",
       "      <td>35.928409</td>\n",
       "      <td>3.812580</td>\n",
       "      <td>8631.953698</td>\n",
       "      <td>1162.814061</td>\n",
       "      <td>4404.086304</td>\n",
       "    </tr>\n",
       "    <tr>\n",
       "      <th>std</th>\n",
       "      <td>3.690378e+07</td>\n",
       "      <td>8.016814</td>\n",
       "      <td>1.298908</td>\n",
       "      <td>7.986416</td>\n",
       "      <td>1.554408</td>\n",
       "      <td>9088.776650</td>\n",
       "      <td>814.987335</td>\n",
       "      <td>3397.129254</td>\n",
       "    </tr>\n",
       "    <tr>\n",
       "      <th>min</th>\n",
       "      <td>7.080821e+08</td>\n",
       "      <td>26.000000</td>\n",
       "      <td>0.000000</td>\n",
       "      <td>13.000000</td>\n",
       "      <td>1.000000</td>\n",
       "      <td>1438.300000</td>\n",
       "      <td>0.000000</td>\n",
       "      <td>510.000000</td>\n",
       "    </tr>\n",
       "    <tr>\n",
       "      <th>25%</th>\n",
       "      <td>7.130368e+08</td>\n",
       "      <td>41.000000</td>\n",
       "      <td>1.000000</td>\n",
       "      <td>31.000000</td>\n",
       "      <td>3.000000</td>\n",
       "      <td>2555.000000</td>\n",
       "      <td>359.000000</td>\n",
       "      <td>2155.500000</td>\n",
       "    </tr>\n",
       "    <tr>\n",
       "      <th>50%</th>\n",
       "      <td>7.179264e+08</td>\n",
       "      <td>46.000000</td>\n",
       "      <td>2.000000</td>\n",
       "      <td>36.000000</td>\n",
       "      <td>4.000000</td>\n",
       "      <td>4549.000000</td>\n",
       "      <td>1276.000000</td>\n",
       "      <td>3899.000000</td>\n",
       "    </tr>\n",
       "    <tr>\n",
       "      <th>75%</th>\n",
       "      <td>7.731435e+08</td>\n",
       "      <td>52.000000</td>\n",
       "      <td>3.000000</td>\n",
       "      <td>40.000000</td>\n",
       "      <td>5.000000</td>\n",
       "      <td>11067.500000</td>\n",
       "      <td>1784.000000</td>\n",
       "      <td>4741.000000</td>\n",
       "    </tr>\n",
       "    <tr>\n",
       "      <th>max</th>\n",
       "      <td>8.283431e+08</td>\n",
       "      <td>73.000000</td>\n",
       "      <td>5.000000</td>\n",
       "      <td>56.000000</td>\n",
       "      <td>6.000000</td>\n",
       "      <td>34516.000000</td>\n",
       "      <td>2517.000000</td>\n",
       "      <td>18484.000000</td>\n",
       "    </tr>\n",
       "  </tbody>\n",
       "</table>\n",
       "</div>"
      ],
      "text/plain": [
       "          Client_id  Customer_Age  Dependent_count  Months_on_book  \\\n",
       "count  1.012700e+04  10127.000000     10127.000000    10127.000000   \n",
       "mean   7.391776e+08     46.325960         2.346203       35.928409   \n",
       "std    3.690378e+07      8.016814         1.298908        7.986416   \n",
       "min    7.080821e+08     26.000000         0.000000       13.000000   \n",
       "25%    7.130368e+08     41.000000         1.000000       31.000000   \n",
       "50%    7.179264e+08     46.000000         2.000000       36.000000   \n",
       "75%    7.731435e+08     52.000000         3.000000       40.000000   \n",
       "max    8.283431e+08     73.000000         5.000000       56.000000   \n",
       "\n",
       "       Total_Relationship_Count  Credit_Limit     Total_Bal  Total_Trans_Amt  \n",
       "count              10127.000000  10127.000000  10127.000000     10127.000000  \n",
       "mean                   3.812580   8631.953698   1162.814061      4404.086304  \n",
       "std                    1.554408   9088.776650    814.987335      3397.129254  \n",
       "min                    1.000000   1438.300000      0.000000       510.000000  \n",
       "25%                    3.000000   2555.000000    359.000000      2155.500000  \n",
       "50%                    4.000000   4549.000000   1276.000000      3899.000000  \n",
       "75%                    5.000000  11067.500000   1784.000000      4741.000000  \n",
       "max                    6.000000  34516.000000   2517.000000     18484.000000  "
      ]
     },
     "execution_count": 6,
     "metadata": {},
     "output_type": "execute_result"
    }
   ],
   "source": [
    "# A summary of the entire dataset\n",
    "df.describe()"
   ]
  },
  {
   "cell_type": "code",
   "execution_count": 7,
   "id": "1548658c",
   "metadata": {},
   "outputs": [
    {
     "data": {
      "text/plain": [
       "0"
      ]
     },
     "execution_count": 7,
     "metadata": {},
     "output_type": "execute_result"
    }
   ],
   "source": [
    "# To see if we have duplicated rows\n",
    "df.duplicated().sum()"
   ]
  },
  {
   "cell_type": "code",
   "execution_count": 27,
   "id": "f1fdebad",
   "metadata": {},
   "outputs": [
    {
     "data": {
      "text/html": [
       "<div>\n",
       "<style scoped>\n",
       "    .dataframe tbody tr th:only-of-type {\n",
       "        vertical-align: middle;\n",
       "    }\n",
       "\n",
       "    .dataframe tbody tr th {\n",
       "        vertical-align: top;\n",
       "    }\n",
       "\n",
       "    .dataframe thead th {\n",
       "        text-align: right;\n",
       "    }\n",
       "</style>\n",
       "<table border=\"1\" class=\"dataframe\">\n",
       "  <thead>\n",
       "    <tr style=\"text-align: right;\">\n",
       "      <th></th>\n",
       "      <th>client_id</th>\n",
       "      <th>age</th>\n",
       "      <th>Gender</th>\n",
       "      <th>depend_count</th>\n",
       "      <th>duration</th>\n",
       "      <th>relationship_count</th>\n",
       "      <th>credit_limit</th>\n",
       "      <th>balance</th>\n",
       "      <th>total_trans</th>\n",
       "    </tr>\n",
       "  </thead>\n",
       "  <tbody>\n",
       "    <tr>\n",
       "      <th>0</th>\n",
       "      <td>768805383</td>\n",
       "      <td>45</td>\n",
       "      <td>M</td>\n",
       "      <td>3</td>\n",
       "      <td>39</td>\n",
       "      <td>5</td>\n",
       "      <td>12691.0</td>\n",
       "      <td>777</td>\n",
       "      <td>1144</td>\n",
       "    </tr>\n",
       "    <tr>\n",
       "      <th>1</th>\n",
       "      <td>818770008</td>\n",
       "      <td>49</td>\n",
       "      <td>F</td>\n",
       "      <td>5</td>\n",
       "      <td>44</td>\n",
       "      <td>6</td>\n",
       "      <td>8256.0</td>\n",
       "      <td>864</td>\n",
       "      <td>1291</td>\n",
       "    </tr>\n",
       "    <tr>\n",
       "      <th>2</th>\n",
       "      <td>713982108</td>\n",
       "      <td>51</td>\n",
       "      <td>M</td>\n",
       "      <td>3</td>\n",
       "      <td>36</td>\n",
       "      <td>4</td>\n",
       "      <td>3418.0</td>\n",
       "      <td>0</td>\n",
       "      <td>1887</td>\n",
       "    </tr>\n",
       "    <tr>\n",
       "      <th>3</th>\n",
       "      <td>769911858</td>\n",
       "      <td>40</td>\n",
       "      <td>F</td>\n",
       "      <td>4</td>\n",
       "      <td>34</td>\n",
       "      <td>3</td>\n",
       "      <td>3313.0</td>\n",
       "      <td>2517</td>\n",
       "      <td>1171</td>\n",
       "    </tr>\n",
       "    <tr>\n",
       "      <th>4</th>\n",
       "      <td>709106358</td>\n",
       "      <td>40</td>\n",
       "      <td>M</td>\n",
       "      <td>3</td>\n",
       "      <td>21</td>\n",
       "      <td>5</td>\n",
       "      <td>4716.0</td>\n",
       "      <td>0</td>\n",
       "      <td>816</td>\n",
       "    </tr>\n",
       "  </tbody>\n",
       "</table>\n",
       "</div>"
      ],
      "text/plain": [
       "   client_id  age Gender  depend_count  duration  relationship_count  \\\n",
       "0  768805383   45      M             3        39                   5   \n",
       "1  818770008   49      F             5        44                   6   \n",
       "2  713982108   51      M             3        36                   4   \n",
       "3  769911858   40      F             4        34                   3   \n",
       "4  709106358   40      M             3        21                   5   \n",
       "\n",
       "   credit_limit  balance  total_trans  \n",
       "0       12691.0      777         1144  \n",
       "1        8256.0      864         1291  \n",
       "2        3418.0        0         1887  \n",
       "3        3313.0     2517         1171  \n",
       "4        4716.0        0          816  "
      ]
     },
     "execution_count": 27,
     "metadata": {},
     "output_type": "execute_result"
    }
   ],
   "source": [
    "# Renaming columns\n",
    "df.rename(columns = {'Client_id':'client_id','Customer_Age':'age','Dependent_count':'depend_count','Months_on_book':'duration',\n",
    "          'Total_Relationship_Count':'relationship_count','Credit_Limit':'credit_limit','Total_Bal':'balance','Total_Trans_Amt':'total_trans'}, inplace = True)\n",
    "df.head()"
   ]
  },
  {
   "cell_type": "code",
   "execution_count": 28,
   "id": "25b97044",
   "metadata": {},
   "outputs": [],
   "source": [
    "# Converting the datatype of the client_id to text.\n",
    "df.client_id = df.client_id.astype(str)"
   ]
  },
  {
   "cell_type": "code",
   "execution_count": 29,
   "id": "94e9c5fc",
   "metadata": {},
   "outputs": [
    {
     "name": "stdout",
     "output_type": "stream",
     "text": [
      "<class 'pandas.core.frame.DataFrame'>\n",
      "Int64Index: 10127 entries, 0 to 10126\n",
      "Data columns (total 9 columns):\n",
      " #   Column              Non-Null Count  Dtype  \n",
      "---  ------              --------------  -----  \n",
      " 0   client_id           10127 non-null  object \n",
      " 1   age                 10127 non-null  int64  \n",
      " 2   Gender              10127 non-null  object \n",
      " 3   depend_count        10127 non-null  int64  \n",
      " 4   duration            10127 non-null  int64  \n",
      " 5   relationship_count  10127 non-null  int64  \n",
      " 6   credit_limit        10127 non-null  float64\n",
      " 7   balance             10127 non-null  int64  \n",
      " 8   total_trans         10127 non-null  int64  \n",
      "dtypes: float64(1), int64(6), object(2)\n",
      "memory usage: 791.2+ KB\n"
     ]
    }
   ],
   "source": [
    "df.info()"
   ]
  },
  {
   "cell_type": "code",
   "execution_count": 60,
   "id": "a1b89083",
   "metadata": {},
   "outputs": [
    {
     "data": {
      "text/html": [
       "<div>\n",
       "<style scoped>\n",
       "    .dataframe tbody tr th:only-of-type {\n",
       "        vertical-align: middle;\n",
       "    }\n",
       "\n",
       "    .dataframe tbody tr th {\n",
       "        vertical-align: top;\n",
       "    }\n",
       "\n",
       "    .dataframe thead th {\n",
       "        text-align: right;\n",
       "    }\n",
       "</style>\n",
       "<table border=\"1\" class=\"dataframe\">\n",
       "  <thead>\n",
       "    <tr style=\"text-align: right;\">\n",
       "      <th></th>\n",
       "      <th>age</th>\n",
       "      <th>depend_count</th>\n",
       "      <th>duration</th>\n",
       "      <th>relationship_count</th>\n",
       "      <th>credit_limit</th>\n",
       "      <th>balance</th>\n",
       "      <th>total_trans</th>\n",
       "    </tr>\n",
       "  </thead>\n",
       "  <tbody>\n",
       "    <tr>\n",
       "      <th>age</th>\n",
       "      <td>1.000000</td>\n",
       "      <td>-0.122254</td>\n",
       "      <td>0.788912</td>\n",
       "      <td>-0.010931</td>\n",
       "      <td>0.002476</td>\n",
       "      <td>0.014780</td>\n",
       "      <td>-0.046446</td>\n",
       "    </tr>\n",
       "    <tr>\n",
       "      <th>depend_count</th>\n",
       "      <td>-0.122254</td>\n",
       "      <td>1.000000</td>\n",
       "      <td>-0.103062</td>\n",
       "      <td>-0.039076</td>\n",
       "      <td>0.068065</td>\n",
       "      <td>-0.002688</td>\n",
       "      <td>0.025046</td>\n",
       "    </tr>\n",
       "    <tr>\n",
       "      <th>duration</th>\n",
       "      <td>0.788912</td>\n",
       "      <td>-0.103062</td>\n",
       "      <td>1.000000</td>\n",
       "      <td>-0.009203</td>\n",
       "      <td>0.007507</td>\n",
       "      <td>0.008623</td>\n",
       "      <td>-0.038591</td>\n",
       "    </tr>\n",
       "    <tr>\n",
       "      <th>relationship_count</th>\n",
       "      <td>-0.010931</td>\n",
       "      <td>-0.039076</td>\n",
       "      <td>-0.009203</td>\n",
       "      <td>1.000000</td>\n",
       "      <td>-0.071386</td>\n",
       "      <td>0.013726</td>\n",
       "      <td>-0.347229</td>\n",
       "    </tr>\n",
       "    <tr>\n",
       "      <th>credit_limit</th>\n",
       "      <td>0.002476</td>\n",
       "      <td>0.068065</td>\n",
       "      <td>0.007507</td>\n",
       "      <td>-0.071386</td>\n",
       "      <td>1.000000</td>\n",
       "      <td>0.042493</td>\n",
       "      <td>0.171730</td>\n",
       "    </tr>\n",
       "    <tr>\n",
       "      <th>balance</th>\n",
       "      <td>0.014780</td>\n",
       "      <td>-0.002688</td>\n",
       "      <td>0.008623</td>\n",
       "      <td>0.013726</td>\n",
       "      <td>0.042493</td>\n",
       "      <td>1.000000</td>\n",
       "      <td>0.064370</td>\n",
       "    </tr>\n",
       "    <tr>\n",
       "      <th>total_trans</th>\n",
       "      <td>-0.046446</td>\n",
       "      <td>0.025046</td>\n",
       "      <td>-0.038591</td>\n",
       "      <td>-0.347229</td>\n",
       "      <td>0.171730</td>\n",
       "      <td>0.064370</td>\n",
       "      <td>1.000000</td>\n",
       "    </tr>\n",
       "  </tbody>\n",
       "</table>\n",
       "</div>"
      ],
      "text/plain": [
       "                         age  depend_count  duration  relationship_count  \\\n",
       "age                 1.000000     -0.122254  0.788912           -0.010931   \n",
       "depend_count       -0.122254      1.000000 -0.103062           -0.039076   \n",
       "duration            0.788912     -0.103062  1.000000           -0.009203   \n",
       "relationship_count -0.010931     -0.039076 -0.009203            1.000000   \n",
       "credit_limit        0.002476      0.068065  0.007507           -0.071386   \n",
       "balance             0.014780     -0.002688  0.008623            0.013726   \n",
       "total_trans        -0.046446      0.025046 -0.038591           -0.347229   \n",
       "\n",
       "                    credit_limit   balance  total_trans  \n",
       "age                     0.002476  0.014780    -0.046446  \n",
       "depend_count            0.068065 -0.002688     0.025046  \n",
       "duration                0.007507  0.008623    -0.038591  \n",
       "relationship_count     -0.071386  0.013726    -0.347229  \n",
       "credit_limit            1.000000  0.042493     0.171730  \n",
       "balance                 0.042493  1.000000     0.064370  \n",
       "total_trans             0.171730  0.064370     1.000000  "
      ]
     },
     "execution_count": 60,
     "metadata": {},
     "output_type": "execute_result"
    }
   ],
   "source": [
    "# Correlation Matrix\n",
    "df.corr()"
   ]
  },
  {
   "cell_type": "code",
   "execution_count": 69,
   "id": "1af27641",
   "metadata": {},
   "outputs": [
    {
     "data": {
      "image/png": "[encoded data removed]",
      "text/plain": [
       "<Figure size 720x720 with 2 Axes>"
      ]
     },
     "metadata": {
      "needs_background": "light"
     },
     "output_type": "display_data"
    }
   ],
   "source": [
    "# Graphical representation\n",
    "import seaborn as sns\n",
    "plt.figure(figsize=(10, 10))\n",
    "sns.heatmap(df.corr(), annot=True);"
   ]
  },
  {
   "cell_type": "code",
   "execution_count": null,
   "id": "71a2715c",
   "metadata": {},
   "outputs": [],
   "source": []
  },
  {
   "cell_type": "markdown",
   "id": "aed250b9",
   "metadata": {},
   "source": [
    "## Simple Regression Model\n",
    "\n",
    "Refers to establishing the relationship between one independent variables and one dependent variables.\n",
    "\n",
    "We start with predicting the Credit limit with only the total transaction"
   ]
  },
  {
   "cell_type": "code",
   "execution_count": 70,
   "id": "46ac31fa",
   "metadata": {},
   "outputs": [
    {
     "name": "stdout",
     "output_type": "stream",
     "text": [
      "(9000, 1)\n"
     ]
    },
    {
     "data": {
      "text/html": [
       "<div>\n",
       "<style scoped>\n",
       "    .dataframe tbody tr th:only-of-type {\n",
       "        vertical-align: middle;\n",
       "    }\n",
       "\n",
       "    .dataframe tbody tr th {\n",
       "        vertical-align: top;\n",
       "    }\n",
       "\n",
       "    .dataframe thead th {\n",
       "        text-align: right;\n",
       "    }\n",
       "</style>\n",
       "<table border=\"1\" class=\"dataframe\">\n",
       "  <thead>\n",
       "    <tr style=\"text-align: right;\">\n",
       "      <th></th>\n",
       "      <th>total_trans</th>\n",
       "    </tr>\n",
       "  </thead>\n",
       "  <tbody>\n",
       "    <tr>\n",
       "      <th>0</th>\n",
       "      <td>1144</td>\n",
       "    </tr>\n",
       "    <tr>\n",
       "      <th>1</th>\n",
       "      <td>1291</td>\n",
       "    </tr>\n",
       "    <tr>\n",
       "      <th>2</th>\n",
       "      <td>1887</td>\n",
       "    </tr>\n",
       "    <tr>\n",
       "      <th>3</th>\n",
       "      <td>1171</td>\n",
       "    </tr>\n",
       "    <tr>\n",
       "      <th>4</th>\n",
       "      <td>816</td>\n",
       "    </tr>\n",
       "  </tbody>\n",
       "</table>\n",
       "</div>"
      ],
      "text/plain": [
       "   total_trans\n",
       "0         1144\n",
       "1         1291\n",
       "2         1887\n",
       "3         1171\n",
       "4          816"
      ]
     },
     "execution_count": 70,
     "metadata": {},
     "output_type": "execute_result"
    }
   ],
   "source": [
    "# Instantiating our independent variable, taking only the first 9000 rows\n",
    "features = [\"total_trans\"]\n",
    "X_full = df[features]\n",
    "X_train = X_full[:9000]\n",
    "print(X_train.shape)\n",
    "X_train.head()"
   ]
  },
  {
   "cell_type": "code",
   "execution_count": 76,
   "id": "b305afde",
   "metadata": {},
   "outputs": [
    {
     "data": {
      "text/plain": [
       "0    12691.0\n",
       "1     8256.0\n",
       "2     3418.0\n",
       "3     3313.0\n",
       "4     4716.0\n",
       "Name: credit_limit, dtype: float64"
      ]
     },
     "execution_count": 76,
     "metadata": {},
     "output_type": "execute_result"
    }
   ],
   "source": [
    "# Dependent Variable\n",
    "target = \"credit_limit\"\n",
    "y_full = df[target]\n",
    "y_train = y_full[:9000]\n",
    "y_test = y_full[9000:]\n",
    "y_train.head()"
   ]
  },
  {
   "cell_type": "markdown",
   "id": "7eb34998",
   "metadata": {},
   "source": [
    "### Baseline Model"
   ]
  },
  {
   "cell_type": "code",
   "execution_count": 37,
   "id": "6974150f",
   "metadata": {},
   "outputs": [
    {
     "data": {
      "text/plain": [
       "8631.95"
      ]
     },
     "execution_count": 37,
     "metadata": {},
     "output_type": "execute_result"
    }
   ],
   "source": [
    "y_mean = y_train.mean()\n",
    "y_mean.round(2)"
   ]
  },
  {
   "cell_type": "code",
   "execution_count": 57,
   "id": "a3daa2a3",
   "metadata": {},
   "outputs": [
    {
     "data": {
      "text/plain": [
       "9000"
      ]
     },
     "execution_count": 57,
     "metadata": {},
     "output_type": "execute_result"
    }
   ],
   "source": [
    "# Create a list of the mean as the baseline model\n",
    "y_pred_baseline = [y_mean] * len(y_train)"
   ]
  },
  {
   "cell_type": "code",
   "execution_count": 58,
   "id": "50c33f3a",
   "metadata": {},
   "outputs": [
    {
     "name": "stdout",
     "output_type": "stream",
     "text": [
      "Mean apt price 8631.95\n",
      "Baseline MAE: 6612.92\n"
     ]
    }
   ],
   "source": [
    "# Mean Absolute Error\n",
    "mae_baseline = mean_absolute_error(y_train, y_pred_baseline)\n",
    "print(\"Mean apt price\", round(y_mean, 2))\n",
    "print(\"Baseline MAE:\", round(mae_baseline, 2))"
   ]
  },
  {
   "cell_type": "code",
   "execution_count": 44,
   "id": "ada0a7b9",
   "metadata": {},
   "outputs": [],
   "source": [
    "# Instantiating the regression model\n",
    "model = LinearRegression()"
   ]
  },
  {
   "cell_type": "code",
   "execution_count": 48,
   "id": "c752a622",
   "metadata": {},
   "outputs": [
    {
     "data": {
      "text/plain": [
       "LinearRegression()"
      ]
     },
     "execution_count": 48,
     "metadata": {},
     "output_type": "execute_result"
    }
   ],
   "source": [
    "# fitting the regression model\n",
    "model.fit(X_train,y_train)"
   ]
  },
  {
   "cell_type": "code",
   "execution_count": 49,
   "id": "9b5e5d05",
   "metadata": {},
   "outputs": [],
   "source": [
    "check_is_fitted(model)"
   ]
  },
  {
   "cell_type": "code",
   "execution_count": 68,
   "id": "35bf5a5d",
   "metadata": {},
   "outputs": [
    {
     "data": {
      "text/plain": [
       "0    8158.183290\n",
       "1    8142.976378\n",
       "2    8081.321141\n",
       "3    8155.390184\n",
       "4    8192.114360\n",
       "dtype: float64"
      ]
     },
     "execution_count": 68,
     "metadata": {},
     "output_type": "execute_result"
    }
   ],
   "source": [
    "# Generate predictions\n",
    "y_pred_training = model.predict(X_train)\n",
    "y_pred_training = pd.Series(y_pred_training)\n",
    "y_pred_training.head()"
   ]
  },
  {
   "cell_type": "code",
   "execution_count": 51,
   "id": "937ab570",
   "metadata": {},
   "outputs": [
    {
     "name": "stdout",
     "output_type": "stream",
     "text": [
      "Training MAE: 6317.57\n"
     ]
    }
   ],
   "source": [
    "# Checking out the mean absolute error\n",
    "mae_training = mean_absolute_error(y_train, y_pred_training)\n",
    "print(\"Training MAE:\", round(mae_training, 2))"
   ]
  },
  {
   "cell_type": "markdown",
   "id": "83e0c698",
   "metadata": {},
   "source": [
    "Mean Absolute error implies that, on average, the forecast's distance from the actual value is 6317.57.\n",
    "\n",
    "A lower MAE indicates a better model"
   ]
  },
  {
   "cell_type": "code",
   "execution_count": 55,
   "id": "0989ef34",
   "metadata": {},
   "outputs": [
    {
     "data": {
      "text/plain": [
       "0.03612944934878737"
      ]
     },
     "execution_count": 55,
     "metadata": {},
     "output_type": "execute_result"
    }
   ],
   "source": [
    "# Checking the coefficient of determination\n",
    "r2_training = r2_score(y_train, y_pred_training)\n",
    "r2_training * 100"
   ]
  },
  {
   "cell_type": "markdown",
   "id": "50e144a6",
   "metadata": {},
   "source": [
    "The R2 (coefficient of determination) is 0.036%.  \n",
    "\n",
    "This means that only 0.036% of the variation in credit limit is explained by the total transaction variable."
   ]
  },
  {
   "cell_type": "code",
   "execution_count": 74,
   "id": "227f389e",
   "metadata": {},
   "outputs": [
    {
     "data": {
      "text/plain": [
       "(1127, 1)"
      ]
     },
     "execution_count": 74,
     "metadata": {},
     "output_type": "execute_result"
    }
   ],
   "source": [
    "# Declare the X_test\n",
    "X_test = X_full[9000:]\n",
    "X_test.shape"
   ]
  },
  {
   "cell_type": "code",
   "execution_count": 75,
   "id": "48a854ff",
   "metadata": {},
   "outputs": [
    {
     "data": {
      "text/plain": [
       "0    7470.251535\n",
       "1    7475.941196\n",
       "2    7386.044550\n",
       "3    7408.906643\n",
       "4    7427.010110\n",
       "dtype: float64"
      ]
     },
     "execution_count": 75,
     "metadata": {},
     "output_type": "execute_result"
    }
   ],
   "source": [
    "# Predicting test data\n",
    "y_pred_test = model.predict(X_test)\n",
    "y_pred_test = pd.Series(y_pred_test)\n",
    "y_pred_test.head()"
   ]
  },
  {
   "cell_type": "code",
   "execution_count": 78,
   "id": "28a21a8b",
   "metadata": {},
   "outputs": [
    {
     "name": "stdout",
     "output_type": "stream",
     "text": [
      "Test MAE: 9230.16\n",
      "Test R2: -0.44\n"
     ]
    }
   ],
   "source": [
    "# Checking out the mean absolute error\n",
    "mae_test = mean_absolute_error(y_test, y_pred_test)\n",
    "r2_score_test = r2_score(y_test, y_pred_test)\n",
    "print(\"Test MAE:\", round(mae_test, 2))\n",
    "print(\"Test R2:\", round(r2_score_test, 2))"
   ]
  },
  {
   "cell_type": "markdown",
   "id": "fa498c03",
   "metadata": {},
   "source": [
    "### Mulitple Regression\n",
    "\n",
    "Here we use the statsmodels library"
   ]
  },
  {
   "cell_type": "code",
   "execution_count": 117,
   "id": "762f5aee",
   "metadata": {},
   "outputs": [
    {
     "name": "stdout",
     "output_type": "stream",
     "text": [
      "(9000, 3)\n"
     ]
    },
    {
     "data": {
      "text/html": [
       "<div>\n",
       "<style scoped>\n",
       "    .dataframe tbody tr th:only-of-type {\n",
       "        vertical-align: middle;\n",
       "    }\n",
       "\n",
       "    .dataframe tbody tr th {\n",
       "        vertical-align: top;\n",
       "    }\n",
       "\n",
       "    .dataframe thead th {\n",
       "        text-align: right;\n",
       "    }\n",
       "</style>\n",
       "<table border=\"1\" class=\"dataframe\">\n",
       "  <thead>\n",
       "    <tr style=\"text-align: right;\">\n",
       "      <th></th>\n",
       "      <th>total_trans</th>\n",
       "      <th>age</th>\n",
       "      <th>duration</th>\n",
       "    </tr>\n",
       "  </thead>\n",
       "  <tbody>\n",
       "    <tr>\n",
       "      <th>0</th>\n",
       "      <td>1144</td>\n",
       "      <td>45</td>\n",
       "      <td>39</td>\n",
       "    </tr>\n",
       "    <tr>\n",
       "      <th>1</th>\n",
       "      <td>1291</td>\n",
       "      <td>49</td>\n",
       "      <td>44</td>\n",
       "    </tr>\n",
       "    <tr>\n",
       "      <th>2</th>\n",
       "      <td>1887</td>\n",
       "      <td>51</td>\n",
       "      <td>36</td>\n",
       "    </tr>\n",
       "    <tr>\n",
       "      <th>3</th>\n",
       "      <td>1171</td>\n",
       "      <td>40</td>\n",
       "      <td>34</td>\n",
       "    </tr>\n",
       "    <tr>\n",
       "      <th>4</th>\n",
       "      <td>816</td>\n",
       "      <td>40</td>\n",
       "      <td>21</td>\n",
       "    </tr>\n",
       "  </tbody>\n",
       "</table>\n",
       "</div>"
      ],
      "text/plain": [
       "   total_trans  age  duration\n",
       "0         1144   45        39\n",
       "1         1291   49        44\n",
       "2         1887   51        36\n",
       "3         1171   40        34\n",
       "4          816   40        21"
      ]
     },
     "execution_count": 117,
     "metadata": {},
     "output_type": "execute_result"
    }
   ],
   "source": [
    "# Instantiating our independent variables (3 columns)\n",
    "features = [\"total_trans\",\"age\",\"duration\"]\n",
    "X_full = df[features]\n",
    "X_train1 = X_full[:9000]\n",
    "print(X_train1.shape)\n",
    "X_train1.head()"
   ]
  },
  {
   "cell_type": "code",
   "execution_count": 104,
   "id": "0ec56d24",
   "metadata": {},
   "outputs": [],
   "source": [
    "# add constant to predictor variables\n",
    "X_train1 = sm.add_constant(X_train1)"
   ]
  },
  {
   "cell_type": "code",
   "execution_count": 105,
   "id": "83fef377",
   "metadata": {},
   "outputs": [
    {
     "data": {
      "text/plain": [
       "0    12691.0\n",
       "1     8256.0\n",
       "2     3418.0\n",
       "3     3313.0\n",
       "4     4716.0\n",
       "Name: credit_limit, dtype: float64"
      ]
     },
     "execution_count": 105,
     "metadata": {},
     "output_type": "execute_result"
    }
   ],
   "source": [
    "# Dependent Variable\n",
    "target = \"credit_limit\"\n",
    "y_full = df[target]\n",
    "y_train1 = y_full[:9000]\n",
    "y_train1.head()"
   ]
  },
  {
   "cell_type": "code",
   "execution_count": 109,
   "id": "abe0941e",
   "metadata": {},
   "outputs": [],
   "source": [
    "# fit the regression model\n",
    "model = sm.OLS(y_train1, X_train).fit()"
   ]
  },
  {
   "cell_type": "code",
   "execution_count": 110,
   "id": "9ffb9123",
   "metadata": {},
   "outputs": [
    {
     "name": "stdout",
     "output_type": "stream",
     "text": [
      "                                 OLS Regression Results                                \n",
      "=======================================================================================\n",
      "Dep. Variable:           credit_limit   R-squared (uncentered):                   0.449\n",
      "Model:                            OLS   Adj. R-squared (uncentered):              0.449\n",
      "Method:                 Least Squares   F-statistic:                              2447.\n",
      "Date:                Tue, 23 Aug 2022   Prob (F-statistic):                        0.00\n",
      "Time:                        18:05:50   Log-Likelihood:                         -94370.\n",
      "No. Observations:                9000   AIC:                                  1.887e+05\n",
      "Df Residuals:                    8997   BIC:                                  1.888e+05\n",
      "Df Model:                           3                                                  \n",
      "Covariance Type:            nonrobust                                                  \n",
      "===============================================================================\n",
      "                  coef    std err          t      P>|t|      [0.025      0.975]\n",
      "-------------------------------------------------------------------------------\n",
      "total_trans     0.1832      0.054      3.376      0.001       0.077       0.290\n",
      "age           140.4977     15.197      9.245      0.000     110.708     170.287\n",
      "duration       15.9121     18.723      0.850      0.395     -20.790      52.614\n",
      "==============================================================================\n",
      "Omnibus:                     2816.457   Durbin-Watson:                   1.813\n",
      "Prob(Omnibus):                  0.000   Jarque-Bera (JB):             6877.828\n",
      "Skew:                           1.768   Prob(JB):                         0.00\n",
      "Kurtosis:                       5.415   Cond. No.                         980.\n",
      "==============================================================================\n",
      "\n",
      "Notes:\n",
      "[1] R² is computed without centering (uncentered) since the model does not contain a constant.\n",
      "[2] Standard Errors assume that the covariance matrix of the errors is correctly specified.\n"
     ]
    }
   ],
   "source": [
    "# view model summary\n",
    "print(model.summary())"
   ]
  },
  {
   "cell_type": "code",
   "execution_count": 91,
   "id": "454421a9",
   "metadata": {},
   "outputs": [],
   "source": [
    "# Initialize the test data\n",
    "X_test1 = X_full[9000:]"
   ]
  },
  {
   "cell_type": "code",
   "execution_count": 100,
   "id": "3f044389",
   "metadata": {},
   "outputs": [
    {
     "data": {
      "text/plain": [
       "9000    10264.033783\n",
       "9001     7936.921361\n",
       "9002     8329.423124\n",
       "9003     7989.306550\n",
       "9004     8776.533732\n",
       "dtype: float64"
      ]
     },
     "execution_count": 100,
     "metadata": {},
     "output_type": "execute_result"
    }
   ],
   "source": [
    "# Prediction\n",
    "y_pred_test1 = model.predict(X_test1)\n",
    "y_pred_test1 = pd.Series(y_pred_test1)\n",
    "y_pred_test1.head()"
   ]
  }
 ],
 "metadata": {
  "kernelspec": {
   "display_name": "Python 3 (ipykernel)",
   "language": "python",
   "name": "python3"
  },
  "language_info": {
   "codemirror_mode": {
    "name": "ipython",
    "version": 3
   },
   "file_extension": ".py",
   "mimetype": "text/x-python",
   "name": "python",
   "nbconvert_exporter": "python",
   "pygments_lexer": "ipython3",
   "version": "3.9.8"
  }
 },
 "nbformat": 4,
 "nbformat_minor": 5
}
